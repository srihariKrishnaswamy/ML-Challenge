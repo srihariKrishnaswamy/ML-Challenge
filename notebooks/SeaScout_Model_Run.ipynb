{
  "cells": [
    {
      "cell_type": "markdown",
      "source": [
        "# Running our Object Detection Model\n",
        "Srihari Krishnaswamy, 5-24-2023\n",
        "\n",
        "This colab notebook runs our Yolov5 object detection model on the videos that we input. We can choose what videos are processed and what weights are used for detection by updating variables set in the notebook.\n",
        "\n",
        "Click [here](https://colab.research.google.com/drive/1tA7fIs-hGEBu-z6XTyebifMSZLuCg3mB?usp=sharing) to open this notebook in google colab"
      ],
      "metadata": {
        "id": "ju4Th0-2PrVG"
      }
    },
    {
      "cell_type": "markdown",
      "source": [
        "### Setup\n",
        "First, we clone our project:"
      ],
      "metadata": {
        "id": "rlgv4AMbQ4Mw"
      }
    },
    {
      "cell_type": "code",
      "source": [
        "!git clone https://github.com/srihariKrishnaswamy/ML-Challenge.git"
      ],
      "metadata": {
        "id": "T0eu6Y9d_GrW"
      },
      "execution_count": null,
      "outputs": []
    },
    {
      "cell_type": "markdown",
      "source": [
        "### Mounting Google Drive: \n",
        "This will come in handy when downloading processed videos!"
      ],
      "metadata": {
        "id": "SVwtiAP1RAQ3"
      }
    },
    {
      "cell_type": "code",
      "source": [
        "from google.colab import drive\n",
        "drive.mount('/content/drive')"
      ],
      "metadata": {
        "id": "VJCMFFbUkJlv"
      },
      "execution_count": null,
      "outputs": []
    },
    {
      "cell_type": "markdown",
      "source": [
        "### Installing LFS\n",
        "The models and videos in our project are too big to be stored in git regularly, so we need LFS"
      ],
      "metadata": {
        "id": "Jl0RqdvORf27"
      }
    },
    {
      "cell_type": "code",
      "source": [
        "%cd ML-Challenge\n",
        "!git lfs install; git lfs fetch; git lfs pull"
      ],
      "metadata": {
        "id": "shILfHvi_dZN"
      },
      "execution_count": null,
      "outputs": []
    },
    {
      "cell_type": "markdown",
      "source": [
        "### Installing Project Dependencies:"
      ],
      "metadata": {
        "id": "pgvn_xIRRt4M"
      }
    },
    {
      "cell_type": "code",
      "source": [
        "!pip3 install -qr requirements.txt"
      ],
      "metadata": {
        "id": "ghZWqHyMARaE"
      },
      "execution_count": null,
      "outputs": []
    },
    {
      "cell_type": "markdown",
      "source": [
        "### Choosing our video and the model we want to use for detections:"
      ],
      "metadata": {
        "id": "_IxCHvKkSGPl"
      }
    },
    {
      "cell_type": "code",
      "source": [
        "video1 = \"seafloor.mp4\"\n",
        "video2 = \"descent.mp4\"\n",
        "model = \"seventh.pt\""
      ],
      "metadata": {
        "id": "KAlYd213A1yR"
      },
      "execution_count": null,
      "outputs": []
    },
    {
      "cell_type": "markdown",
      "source": [
        "### Running our inference!\n",
        "This statement takes in the videos to process and the model to process them, outputting processed videos inside the latest folder inside the output folder. This file is the subprocess that gets run inside the UI to a) track organisims using the yolov5 model and b) write the detections to a spreadsheet, so this is a direct and intuitive look into how our project works!\n",
        "\n",
        "Usage: create variables for however many videos you'd like to process by setting the variable to the name of the video. The videos have to be inside the videos folder inside the project folder. This is also the case with the model. To apply detection onto the videos, enter them in the same format as below into the statement invoking the master_detect_data.py file. Please make sure that file names are valid!"
      ],
      "metadata": {
        "id": "YC2kWMcEWFZC"
      }
    },
    {
      "cell_type": "code",
      "source": [
        "!python master_detect_data.py --videos {video1} --model {model}"
      ],
      "metadata": {
        "id": "ZNlXHykFXaIk"
      },
      "execution_count": null,
      "outputs": []
    },
    {
      "cell_type": "markdown",
      "source": [
        "### Now download the videos and spreadsheet from the latest output folder!"
      ],
      "metadata": {
        "id": "ldlqYTXJUBGK"
      }
    }
  ],
  "metadata": {
    "colab": {
      "provenance": []
    },
    "kernelspec": {
      "display_name": "Python 3",
      "name": "python3"
    },
    "gpuClass": "standard",
    "accelerator": "GPU"
  },
  "nbformat": 4,
  "nbformat_minor": 0
}